{
 "cells": [
  {
   "cell_type": "code",
   "execution_count": 1,
   "metadata": {},
   "outputs": [],
   "source": [
    "import pandas as pd"
   ]
  },
  {
   "cell_type": "code",
   "execution_count": 2,
   "metadata": {},
   "outputs": [],
   "source": [
    "import json\n",
    "from pandas.io.json import json_normalize"
   ]
  },
  {
   "cell_type": "code",
   "execution_count": 9,
   "metadata": {},
   "outputs": [],
   "source": [
    "data = [{ \"_id\" : { \"$oid\" : \"52b213b38594d8a2be17c780\" },\n",
    " \"boardapprovaldate\" : \"2013-11-12T00:00:00Z\", \n",
    " \"borrower\" : {\"FEDERAL DEMOCRATIC REPUBLIC OF ETHIOPIA\"},\n",
    " \"closingdate\" : {\"2018-07-07T00:00:00Z\"}, \n",
    " \"country_namecode\" : {\"Federal Democratic Republic of Ethiopia!$!ET\"},\n",
    " \"countrycode\" : {\"ET\"}, \n",
    " \"countryname\" : {\"Federal Democratic Republic of Ethiopia\"}, \n",
    " \"countryshortname\" : {\"Ethiopia\"}, \n",
    " \"docty\" : {\"Project Information Document,Indigenous Peoples Plan,Project Information Document\"},\n",
    "\"impagency\" : {\"MINISTRY OF EDUCATION\"}, \n",
    "\"lendinginstr\" : {\"Investment Project Financing\"}, \n",
    "\"lendinginstrtype\" : {\"IN\"}, \n",
    "\"lendprojectcost\" : {550000000}, \n",
    "\"majorsector_percent\" :\n",
    "     [ { \"Name\" : \"Education\", \"Percent\" : 46 }, \n",
    "     { \"Name\" : \"Education\", \"Percent\" : 26 }, \n",
    "     { \"Name\" : \"Public Administration, Law, and Justice\",\"Percent\" : 16 },\n",
    "      { \"Name\" : \"Education\", \"Percent\" : 12 } ]}]"
   ]
  },
  {
   "cell_type": "code",
   "execution_count": 18,
   "metadata": {},
   "outputs": [
    {
     "ename": "TypeError",
     "evalue": "string indices must be integers",
     "output_type": "error",
     "traceback": [
      "\u001b[1;31m---------------------------------------------------------------------------\u001b[0m",
      "\u001b[1;31mTypeError\u001b[0m                                 Traceback (most recent call last)",
      "\u001b[1;32m<ipython-input-18-1abddac6e7ff>\u001b[0m in \u001b[0;36m<module>\u001b[1;34m()\u001b[0m\n\u001b[1;32m----> 1\u001b[1;33m \u001b[0mjson_normalize\u001b[0m\u001b[1;33m(\u001b[0m\u001b[0mdata\u001b[0m\u001b[1;33m,\u001b[0m \u001b[1;33m[\u001b[0m\u001b[1;34m'_id'\u001b[0m\u001b[1;33m,\u001b[0m \u001b[1;33m[\u001b[0m\u001b[1;34m'boardapprovaldate'\u001b[0m\u001b[1;33m]\u001b[0m\u001b[1;33m,\u001b[0m \u001b[1;34m'borrower'\u001b[0m\u001b[1;33m,\u001b[0m \u001b[1;34m'closingdate'\u001b[0m\u001b[1;33m,\u001b[0m \u001b[1;34m'country_namecode'\u001b[0m\u001b[1;33m,\u001b[0m \u001b[1;34m'countrycode'\u001b[0m\u001b[1;33m,\u001b[0m \u001b[1;34m'countryname'\u001b[0m\u001b[1;33m,\u001b[0m \u001b[1;34m'countryshortname'\u001b[0m\u001b[1;33m,\u001b[0m \u001b[1;34m'docty'\u001b[0m\u001b[1;33m,\u001b[0m \u001b[1;34m'impagency'\u001b[0m\u001b[1;33m,\u001b[0m \u001b[1;34m'lendinginstr'\u001b[0m\u001b[1;33m,\u001b[0m \u001b[1;34m'lendinginstrtype'\u001b[0m\u001b[1;33m,\u001b[0m \u001b[1;34m'lendprojectcost'\u001b[0m\u001b[1;33m,\u001b[0m \u001b[1;34m'majorsector_percent'\u001b[0m\u001b[1;33m,\u001b[0m \u001b[1;33m[\u001b[0m\u001b[1;34m'Name'\u001b[0m\u001b[1;33m,\u001b[0m \u001b[1;34m'Education'\u001b[0m\u001b[1;33m,\u001b[0m \u001b[1;34m'Percent'\u001b[0m\u001b[1;33m]\u001b[0m\u001b[1;33m]\u001b[0m\u001b[1;33m)\u001b[0m\u001b[1;33m\u001b[0m\u001b[0m\n\u001b[0m",
      "\u001b[1;32m~\\AppData\\Local\\Continuum\\anaconda3\\lib\\site-packages\\pandas\\io\\json\\normalize.py\u001b[0m in \u001b[0;36mjson_normalize\u001b[1;34m(data, record_path, meta, meta_prefix, record_prefix, errors, sep)\u001b[0m\n\u001b[0;32m    260\u001b[0m                 \u001b[0mrecords\u001b[0m\u001b[1;33m.\u001b[0m\u001b[0mextend\u001b[0m\u001b[1;33m(\u001b[0m\u001b[0mrecs\u001b[0m\u001b[1;33m)\u001b[0m\u001b[1;33m\u001b[0m\u001b[0m\n\u001b[0;32m    261\u001b[0m \u001b[1;33m\u001b[0m\u001b[0m\n\u001b[1;32m--> 262\u001b[1;33m     \u001b[0m_recursive_extract\u001b[0m\u001b[1;33m(\u001b[0m\u001b[0mdata\u001b[0m\u001b[1;33m,\u001b[0m \u001b[0mrecord_path\u001b[0m\u001b[1;33m,\u001b[0m \u001b[1;33m{\u001b[0m\u001b[1;33m}\u001b[0m\u001b[1;33m,\u001b[0m \u001b[0mlevel\u001b[0m\u001b[1;33m=\u001b[0m\u001b[1;36m0\u001b[0m\u001b[1;33m)\u001b[0m\u001b[1;33m\u001b[0m\u001b[0m\n\u001b[0m\u001b[0;32m    263\u001b[0m \u001b[1;33m\u001b[0m\u001b[0m\n\u001b[0;32m    264\u001b[0m     \u001b[0mresult\u001b[0m \u001b[1;33m=\u001b[0m \u001b[0mDataFrame\u001b[0m\u001b[1;33m(\u001b[0m\u001b[0mrecords\u001b[0m\u001b[1;33m)\u001b[0m\u001b[1;33m\u001b[0m\u001b[0m\n",
      "\u001b[1;32m~\\AppData\\Local\\Continuum\\anaconda3\\lib\\site-packages\\pandas\\io\\json\\normalize.py\u001b[0m in \u001b[0;36m_recursive_extract\u001b[1;34m(data, path, seen_meta, level)\u001b[0m\n\u001b[0;32m    233\u001b[0m \u001b[1;33m\u001b[0m\u001b[0m\n\u001b[0;32m    234\u001b[0m                 _recursive_extract(obj[path[0]], path[1:],\n\u001b[1;32m--> 235\u001b[1;33m                                    seen_meta, level=level + 1)\n\u001b[0m\u001b[0;32m    236\u001b[0m         \u001b[1;32melse\u001b[0m\u001b[1;33m:\u001b[0m\u001b[1;33m\u001b[0m\u001b[0m\n\u001b[0;32m    237\u001b[0m             \u001b[1;32mfor\u001b[0m \u001b[0mobj\u001b[0m \u001b[1;32min\u001b[0m \u001b[0mdata\u001b[0m\u001b[1;33m:\u001b[0m\u001b[1;33m\u001b[0m\u001b[0m\n",
      "\u001b[1;32m~\\AppData\\Local\\Continuum\\anaconda3\\lib\\site-packages\\pandas\\io\\json\\normalize.py\u001b[0m in \u001b[0;36m_recursive_extract\u001b[1;34m(data, path, seen_meta, level)\u001b[0m\n\u001b[0;32m    232\u001b[0m                         \u001b[0mseen_meta\u001b[0m\u001b[1;33m[\u001b[0m\u001b[0mkey\u001b[0m\u001b[1;33m]\u001b[0m \u001b[1;33m=\u001b[0m \u001b[0m_pull_field\u001b[0m\u001b[1;33m(\u001b[0m\u001b[0mobj\u001b[0m\u001b[1;33m,\u001b[0m \u001b[0mval\u001b[0m\u001b[1;33m[\u001b[0m\u001b[1;33m-\u001b[0m\u001b[1;36m1\u001b[0m\u001b[1;33m]\u001b[0m\u001b[1;33m)\u001b[0m\u001b[1;33m\u001b[0m\u001b[0m\n\u001b[0;32m    233\u001b[0m \u001b[1;33m\u001b[0m\u001b[0m\n\u001b[1;32m--> 234\u001b[1;33m                 _recursive_extract(obj[path[0]], path[1:],\n\u001b[0m\u001b[0;32m    235\u001b[0m                                    seen_meta, level=level + 1)\n\u001b[0;32m    236\u001b[0m         \u001b[1;32melse\u001b[0m\u001b[1;33m:\u001b[0m\u001b[1;33m\u001b[0m\u001b[0m\n",
      "\u001b[1;31mTypeError\u001b[0m: string indices must be integers"
     ]
    }
   ],
   "source": [
    "json_normalize(data, ['_id', ['boardapprovaldate'], 'borrower', 'closingdate', 'country_namecode', 'countrycode', 'countryname', 'countryshortname', 'docty', 'impagency', 'lendinginstr', 'lendinginstrtype', 'lendprojectcost', 'majorsector_percent', ['Name', 'Education', 'Percent']])"
   ]
  },
  {
   "cell_type": "code",
   "execution_count": null,
   "metadata": {},
   "outputs": [],
   "source": [
    "json.load((open('C:\\Users\\lmontoni\\OneDrive - Mission1st\\Desktop\\data_wrangling_json\\world_bank_projects.json')))"
   ]
  }
 ],
 "metadata": {
  "kernelspec": {
   "display_name": "Python 3",
   "language": "python",
   "name": "python3"
  },
  "language_info": {
   "codemirror_mode": {
    "name": "ipython",
    "version": 3
   },
   "file_extension": ".py",
   "mimetype": "text/x-python",
   "name": "python",
   "nbconvert_exporter": "python",
   "pygments_lexer": "ipython3",
   "version": "3.6.5"
  }
 },
 "nbformat": 4,
 "nbformat_minor": 2
}
